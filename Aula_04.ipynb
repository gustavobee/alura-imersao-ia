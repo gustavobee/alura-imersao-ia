{
  "nbformat": 4,
  "nbformat_minor": 0,
  "metadata": {
    "colab": {
      "provenance": [],
      "authorship_tag": "ABX9TyOnsLLHnNuHta+FDaG+XjBx",
      "include_colab_link": true
    },
    "kernelspec": {
      "name": "python3",
      "display_name": "Python 3"
    },
    "language_info": {
      "name": "python"
    }
  },
  "cells": [
    {
      "cell_type": "markdown",
      "metadata": {
        "id": "view-in-github",
        "colab_type": "text"
      },
      "source": [
        "<a href=\"https://colab.research.google.com/github/gustavobee/alura-imersao-ia/blob/main/Aula_04.ipynb\" target=\"_parent\"><img src=\"https://colab.research.google.com/assets/colab-badge.svg\" alt=\"Open In Colab\"/></a>"
      ]
    },
    {
      "cell_type": "markdown",
      "source": [
        "Instalando SDK do Google"
      ],
      "metadata": {
        "id": "wIPv1iTC7wB2"
      }
    },
    {
      "cell_type": "code",
      "execution_count": 1,
      "metadata": {
        "id": "I7hJcbHp6K7j"
      },
      "outputs": [],
      "source": [
        "!pip install -q -U google-generativeai"
      ]
    },
    {
      "cell_type": "code",
      "source": [
        "import google.generativeai as genai\n",
        "from google.colab import userdata\n",
        "api_key = userdata.get('SECRET_KEY')\n",
        "genai.configure(api_key=api_key)"
      ],
      "metadata": {
        "id": "6nm0RDyW761I"
      },
      "execution_count": 1,
      "outputs": []
    },
    {
      "cell_type": "markdown",
      "source": [
        "Listar os modelos disponíveis"
      ],
      "metadata": {
        "id": "xbpfi9Qt8CDE"
      }
    },
    {
      "cell_type": "code",
      "source": [
        "for m in genai.list_models():\n",
        "  if 'generateContent' in m.supported_generation_methods:\n",
        "    print(m.name)"
      ],
      "metadata": {
        "colab": {
          "base_uri": "https://localhost:8080/",
          "height": 139
        },
        "id": "hnJhdto58EEL",
        "outputId": "4f484dba-640c-427d-c37d-82eb365e5407"
      },
      "execution_count": 2,
      "outputs": [
        {
          "output_type": "stream",
          "name": "stdout",
          "text": [
            "models/gemini-1.0-pro\n",
            "models/gemini-1.0-pro-001\n",
            "models/gemini-1.0-pro-latest\n",
            "models/gemini-1.0-pro-vision-latest\n",
            "models/gemini-1.5-pro-latest\n",
            "models/gemini-pro\n",
            "models/gemini-pro-vision\n"
          ]
        }
      ]
    },
    {
      "cell_type": "code",
      "source": [
        "generation_config = {\n",
        "    \"candidate_count\": 1,\n",
        "    \"temperature\": 0.5,\n",
        "}"
      ],
      "metadata": {
        "id": "nCHP7V3H9DO1"
      },
      "execution_count": 3,
      "outputs": []
    },
    {
      "cell_type": "code",
      "source": [
        "safety_settings = {\n",
        "    \"HARASSMENT\": \"BLOCK_NONE\",\n",
        "    \"HATE\": \"BLOCK_NONE\",\n",
        "    \"SEXUAL\": \"BLOCK_NONE\",\n",
        "    \"DANGEROUS\": \"BLOCK_NONE\",\n",
        "}"
      ],
      "metadata": {
        "id": "AIbIEaZm9deJ"
      },
      "execution_count": 4,
      "outputs": []
    },
    {
      "cell_type": "markdown",
      "source": [
        "Inicializando o modelo"
      ],
      "metadata": {
        "id": "3Pv05cSz-B5E"
      }
    },
    {
      "cell_type": "code",
      "source": [
        "model = genai.GenerativeModel(model_name=\"gemini-1.0-pro\",\n",
        "                              generation_config=generation_config,\n",
        "                              safety_settings=safety_settings)"
      ],
      "metadata": {
        "id": "K9cqQe6Y-EZ_"
      },
      "execution_count": 5,
      "outputs": []
    },
    {
      "cell_type": "code",
      "source": [
        "response = model.generate_content(\"Me explique o que é IA.\")\n",
        "print(response.text)"
      ],
      "metadata": {
        "colab": {
          "base_uri": "https://localhost:8080/",
          "height": 679
        },
        "id": "bhYHO6an-f1M",
        "outputId": "cd9ebb8a-a93e-465c-b962-3b901d81885b"
      },
      "execution_count": 6,
      "outputs": [
        {
          "output_type": "stream",
          "name": "stdout",
          "text": [
            "**Inteligência Artificial (IA)**\n",
            "\n",
            "A Inteligência Artificial (IA) é um campo da ciência da computação que visa criar máquinas capazes de realizar tarefas que normalmente requerem inteligência humana, como:\n",
            "\n",
            "* **Aprendizado:** Capacidade de adquirir conhecimento e habilidades por meio de dados e experiências.\n",
            "* **Raciocínio:** Capacidade de processar informações, tirar conclusões e resolver problemas.\n",
            "* **Resolução de problemas:** Capacidade de identificar e resolver problemas complexos.\n",
            "* **Tomada de decisão:** Capacidade de avaliar opções e tomar decisões informadas.\n",
            "* **Comunicação:** Capacidade de interagir e se comunicar com humanos e outros sistemas.\n",
            "\n",
            "**Tipos de IA**\n",
            "\n",
            "Existem vários tipos de IA, incluindo:\n",
            "\n",
            "* **IA Fraca (IA Estreita):** Projetada para executar tarefas específicas, como reconhecimento de fala ou jogo de xadrez.\n",
            "* **IA Geral:** Projetada para realizar uma ampla gama de tarefas, como um ser humano.\n",
            "* **Super IA:** Projetada para superar as capacidades intelectuais humanas em todas as áreas.\n",
            "\n",
            "**Aplicações da IA**\n",
            "\n",
            "A IA tem uma ampla gama de aplicações em vários setores, incluindo:\n",
            "\n",
            "* **Saúde:** Diagnóstico de doenças, desenvolvimento de medicamentos e assistência cirúrgica.\n",
            "* **Finanças:** Detecção de fraudes, análise de mercado e gerenciamento de investimentos.\n",
            "* **Transporte:** Veículos autônomos, otimização de rotas e gerenciamento de tráfego.\n",
            "* **Atendimento ao cliente:** Chatbots, recomendações personalizadas e suporte técnico.\n",
            "* **Entretenimento:** Criação de conteúdo, personalização de recomendações e jogos aprimorados.\n",
            "\n",
            "**Benefícios da IA**\n",
            "\n",
            "A IA oferece vários benefícios, incluindo:\n",
            "\n",
            "* **Automatização:** Libera os humanos de tarefas repetitivas e demoradas.\n",
            "* **Eficiência:** Otimiza processos e melhora a produtividade.\n",
            "* **Personalização:** Fornece experiências personalizadas com base nas preferências individuais.\n",
            "* **Inovação:** Impulsiona o desenvolvimento de novas tecnologias e soluções.\n",
            "* **Tomada de decisão aprimorada:** Fornece insights e recomendações baseados em dados.\n"
          ]
        }
      ]
    },
    {
      "cell_type": "code",
      "source": [
        "chat = model.start_chat(history=[])"
      ],
      "metadata": {
        "id": "ozQRL7M8_L53"
      },
      "execution_count": 7,
      "outputs": []
    },
    {
      "cell_type": "code",
      "source": [
        "prompt = input('Esperando prompt: ')\n",
        "\n",
        "while prompt != 'fim':\n",
        "  response = chat.send_message(prompt)\n",
        "  print(\"Resposta: \", response.text, \"\\n\")\n",
        "  prompt = input('Esperando prompt: ')"
      ],
      "metadata": {
        "colab": {
          "base_uri": "https://localhost:8080/",
          "height": 610
        },
        "id": "UEXohW02_dut",
        "outputId": "fee7ba17-1696-4354-9634-73e7b13dd864"
      },
      "execution_count": 8,
      "outputs": [
        {
          "name": "stdout",
          "output_type": "stream",
          "text": [
            "Esperando prompt: Qual é a capital da África do Sul?\n",
            "Resposta:  Pretória (executiva), Cidade do Cabo (legislativa), Bloemfontein (judiciária) \n",
            "\n",
            "Esperando prompt: Me explique curiosidades sobre essas capitais\n",
            "Resposta:  **Pretória (capital executiva)**\n",
            "\n",
            "* É a menor das três capitais da África do Sul.\n",
            "* Abriga a residência oficial do Presidente da África do Sul, conhecida como Mahlamba Ndlopfu.\n",
            "* É o lar da Universidade de Pretória, uma das maiores e mais prestigiadas universidades da África do Sul.\n",
            "* A cidade foi fundada em 1855 e recebeu o nome de Marthinus Pretorius, um líder bôer.\n",
            "\n",
            "**Cidade do Cabo (capital legislativa)**\n",
            "\n",
            "* É a segunda cidade mais populosa da África do Sul.\n",
            "* Abriga o Parlamento da África do Sul, localizado na Cidade do Cabo.\n",
            "* É conhecida por sua beleza natural, incluindo a Table Mountain e o Cabo da Boa Esperança.\n",
            "* Foi fundada em 1652 pela Companhia Holandesa das Índias Orientais como um posto de abastecimento para navios.\n",
            "\n",
            "**Bloemfontein (capital judiciária)**\n",
            "\n",
            "* É a capital judicial da África do Sul, abrigando o Supremo Tribunal de Apelações.\n",
            "* É conhecida por seus edifícios históricos, incluindo o Museu Nacional.\n",
            "* Foi fundada em 1846 e recebeu o nome do líder bôer Jan Bloem.\n",
            "* É o lar da Universidade do Estado Livre, uma das principais universidades da África do Sul.\n",
            "\n",
            "**Outras curiosidades:**\n",
            "\n",
            "* A África do Sul é o único país do mundo com três capitais.\n",
            "* Pretória é a capital administrativa, Cidade do Cabo é a capital legislativa e Bloemfontein é a capital judiciária.\n",
            "* O sistema de três capitais foi estabelecido em 1910, quando a União da África do Sul foi formada.\n",
            "* A decisão de ter três capitais foi um compromisso entre as diferentes províncias da África do Sul, cada uma das quais queria que sua capital fosse a capital nacional. \n",
            "\n",
            "Esperando prompt: fim\n"
          ]
        }
      ]
    },
    {
      "cell_type": "code",
      "source": [
        "chat"
      ],
      "metadata": {
        "colab": {
          "base_uri": "https://localhost:8080/"
        },
        "id": "kmBN-uEcA1Xm",
        "outputId": "e02b20f2-aa89-4931-d27d-d64c302a26ec"
      },
      "execution_count": 9,
      "outputs": [
        {
          "output_type": "execute_result",
          "data": {
            "text/plain": [
              "ChatSession(\n",
              "    model=genai.GenerativeModel(\n",
              "        model_name='models/gemini-1.0-pro',\n",
              "        generation_config={'candidate_count': 1, 'temperature': 0.5},\n",
              "        safety_settings={<HarmCategory.HARM_CATEGORY_HARASSMENT: 7>: <HarmBlockThreshold.BLOCK_NONE: 4>, <HarmCategory.HARM_CATEGORY_HATE_SPEECH: 8>: <HarmBlockThreshold.BLOCK_NONE: 4>, <HarmCategory.HARM_CATEGORY_SEXUALLY_EXPLICIT: 9>: <HarmBlockThreshold.BLOCK_NONE: 4>, <HarmCategory.HARM_CATEGORY_DANGEROUS_CONTENT: 10>: <HarmBlockThreshold.BLOCK_NONE: 4>},\n",
              "        tools=None,\n",
              "        system_instruction=None,\n",
              "    ),\n",
              "    history=[glm.Content({'parts': [{'text': 'Qual é a cap...frica do Sul?'}], 'role': 'user'}), glm.Content({'parts': [{'text': 'Pretória (ex... (judiciária)'}], 'role': 'model'}), glm.Content({'parts': [{'text': 'Me explique ...ssas capitais'}], 'role': 'user'}), glm.Content({'parts': [{'text': '**Pretória (...tal nacional.'}], 'role': 'model'})]\n",
              ")"
            ]
          },
          "metadata": {},
          "execution_count": 9
        }
      ]
    },
    {
      "cell_type": "code",
      "source": [
        "chat.history"
      ],
      "metadata": {
        "colab": {
          "base_uri": "https://localhost:8080/"
        },
        "id": "8tfjqGLIA245",
        "outputId": "696dbe27-9620-4d95-95cd-4ce1a9e103fa"
      },
      "execution_count": 10,
      "outputs": [
        {
          "output_type": "execute_result",
          "data": {
            "text/plain": [
              "[parts {\n",
              "   text: \"Qual \\303\\251 a capital da \\303\\201frica do Sul?\"\n",
              " }\n",
              " role: \"user\",\n",
              " parts {\n",
              "   text: \"Pret\\303\\263ria (executiva), Cidade do Cabo (legislativa), Bloemfontein (judici\\303\\241ria)\"\n",
              " }\n",
              " role: \"model\",\n",
              " parts {\n",
              "   text: \"Me explique curiosidades sobre essas capitais\"\n",
              " }\n",
              " role: \"user\",\n",
              " parts {\n",
              "   text: \"**Pret\\303\\263ria (capital executiva)**\\n\\n* \\303\\211 a menor das tr\\303\\252s capitais da \\303\\201frica do Sul.\\n* Abriga a resid\\303\\252ncia oficial do Presidente da \\303\\201frica do Sul, conhecida como Mahlamba Ndlopfu.\\n* \\303\\211 o lar da Universidade de Pret\\303\\263ria, uma das maiores e mais prestigiadas universidades da \\303\\201frica do Sul.\\n* A cidade foi fundada em 1855 e recebeu o nome de Marthinus Pretorius, um l\\303\\255der b\\303\\264er.\\n\\n**Cidade do Cabo (capital legislativa)**\\n\\n* \\303\\211 a segunda cidade mais populosa da \\303\\201frica do Sul.\\n* Abriga o Parlamento da \\303\\201frica do Sul, localizado na Cidade do Cabo.\\n* \\303\\211 conhecida por sua beleza natural, incluindo a Table Mountain e o Cabo da Boa Esperan\\303\\247a.\\n* Foi fundada em 1652 pela Companhia Holandesa das \\303\\215ndias Orientais como um posto de abastecimento para navios.\\n\\n**Bloemfontein (capital judici\\303\\241ria)**\\n\\n* \\303\\211 a capital judicial da \\303\\201frica do Sul, abrigando o Supremo Tribunal de Apela\\303\\247\\303\\265es.\\n* \\303\\211 conhecida por seus edif\\303\\255cios hist\\303\\263ricos, incluindo o Museu Nacional.\\n* Foi fundada em 1846 e recebeu o nome do l\\303\\255der b\\303\\264er Jan Bloem.\\n* \\303\\211 o lar da Universidade do Estado Livre, uma das principais universidades da \\303\\201frica do Sul.\\n\\n**Outras curiosidades:**\\n\\n* A \\303\\201frica do Sul \\303\\251 o \\303\\272nico pa\\303\\255s do mundo com tr\\303\\252s capitais.\\n* Pret\\303\\263ria \\303\\251 a capital administrativa, Cidade do Cabo \\303\\251 a capital legislativa e Bloemfontein \\303\\251 a capital judici\\303\\241ria.\\n* O sistema de tr\\303\\252s capitais foi estabelecido em 1910, quando a Uni\\303\\243o da \\303\\201frica do Sul foi formada.\\n* A decis\\303\\243o de ter tr\\303\\252s capitais foi um compromisso entre as diferentes prov\\303\\255ncias da \\303\\201frica do Sul, cada uma das quais queria que sua capital fosse a capital nacional.\"\n",
              " }\n",
              " role: \"model\"]"
            ]
          },
          "metadata": {},
          "execution_count": 10
        }
      ]
    },
    {
      "cell_type": "code",
      "source": [
        "#Melhorando a visualização\n",
        "#Código disponível em https://ai.google.dev/tutorials/python_quickstart#import_packages\n",
        "import textwrap\n",
        "from IPython.display import display\n",
        "from IPython.display import Markdown\n",
        "\n",
        "def to_markdown(text):\n",
        "  text = text.replace('•', '  *')\n",
        "  return Markdown(textwrap.indent(text, '> ', predicate=lambda _: True))\n",
        "\n",
        "#Imprimindo o histórico\n",
        "for message in chat.history:\n",
        "  display(to_markdown(f'**{message.role}**: {message.parts[0].text}'))\n",
        "  print('-------------------------------------------')"
      ],
      "metadata": {
        "colab": {
          "base_uri": "https://localhost:8080/",
          "height": 674
        },
        "id": "r27Ci51cAtSm",
        "outputId": "ce196790-68c1-48c5-948b-9b19dc3bf94d"
      },
      "execution_count": 11,
      "outputs": [
        {
          "output_type": "display_data",
          "data": {
            "text/plain": [
              "<IPython.core.display.Markdown object>"
            ],
            "text/markdown": "> **user**: Qual é a capital da África do Sul?"
          },
          "metadata": {}
        },
        {
          "output_type": "stream",
          "name": "stdout",
          "text": [
            "-------------------------------------------\n"
          ]
        },
        {
          "output_type": "display_data",
          "data": {
            "text/plain": [
              "<IPython.core.display.Markdown object>"
            ],
            "text/markdown": "> **model**: Pretória (executiva), Cidade do Cabo (legislativa), Bloemfontein (judiciária)"
          },
          "metadata": {}
        },
        {
          "output_type": "stream",
          "name": "stdout",
          "text": [
            "-------------------------------------------\n"
          ]
        },
        {
          "output_type": "display_data",
          "data": {
            "text/plain": [
              "<IPython.core.display.Markdown object>"
            ],
            "text/markdown": "> **user**: Me explique curiosidades sobre essas capitais"
          },
          "metadata": {}
        },
        {
          "output_type": "stream",
          "name": "stdout",
          "text": [
            "-------------------------------------------\n"
          ]
        },
        {
          "output_type": "display_data",
          "data": {
            "text/plain": [
              "<IPython.core.display.Markdown object>"
            ],
            "text/markdown": "> **model**: **Pretória (capital executiva)**\n> \n> * É a menor das três capitais da África do Sul.\n> * Abriga a residência oficial do Presidente da África do Sul, conhecida como Mahlamba Ndlopfu.\n> * É o lar da Universidade de Pretória, uma das maiores e mais prestigiadas universidades da África do Sul.\n> * A cidade foi fundada em 1855 e recebeu o nome de Marthinus Pretorius, um líder bôer.\n> \n> **Cidade do Cabo (capital legislativa)**\n> \n> * É a segunda cidade mais populosa da África do Sul.\n> * Abriga o Parlamento da África do Sul, localizado na Cidade do Cabo.\n> * É conhecida por sua beleza natural, incluindo a Table Mountain e o Cabo da Boa Esperança.\n> * Foi fundada em 1652 pela Companhia Holandesa das Índias Orientais como um posto de abastecimento para navios.\n> \n> **Bloemfontein (capital judiciária)**\n> \n> * É a capital judicial da África do Sul, abrigando o Supremo Tribunal de Apelações.\n> * É conhecida por seus edifícios históricos, incluindo o Museu Nacional.\n> * Foi fundada em 1846 e recebeu o nome do líder bôer Jan Bloem.\n> * É o lar da Universidade do Estado Livre, uma das principais universidades da África do Sul.\n> \n> **Outras curiosidades:**\n> \n> * A África do Sul é o único país do mundo com três capitais.\n> * Pretória é a capital administrativa, Cidade do Cabo é a capital legislativa e Bloemfontein é a capital judiciária.\n> * O sistema de três capitais foi estabelecido em 1910, quando a União da África do Sul foi formada.\n> * A decisão de ter três capitais foi um compromisso entre as diferentes províncias da África do Sul, cada uma das quais queria que sua capital fosse a capital nacional."
          },
          "metadata": {}
        },
        {
          "output_type": "stream",
          "name": "stdout",
          "text": [
            "-------------------------------------------\n"
          ]
        }
      ]
    }
  ]
}